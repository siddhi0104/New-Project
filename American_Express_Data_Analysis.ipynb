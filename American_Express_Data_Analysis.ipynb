{
  "nbformat": 4,
  "nbformat_minor": 0,
  "metadata": {
    "colab": {
      "provenance": [],
      "include_colab_link": true
    },
    "kernelspec": {
      "name": "python3",
      "display_name": "Python 3"
    }
  },
  "cells": [
    {
      "cell_type": "markdown",
      "metadata": {
        "id": "view-in-github",
        "colab_type": "text"
      },
      "source": [
        "<a href=\"https://colab.research.google.com/github/siddhi0104/New-Project/blob/main/American_Express_Data_Analysis.ipynb\" target=\"_parent\"><img src=\"https://colab.research.google.com/assets/colab-badge.svg\" alt=\"Open In Colab\"/></a>"
      ]
    },
    {
      "cell_type": "markdown",
      "metadata": {
        "id": "iIDXUkMElkDd"
      },
      "source": [
        "# Data Preprocessing"
      ]
    },
    {
      "cell_type": "markdown",
      "metadata": {
        "id": "Hj40LjUilpix"
      },
      "source": [
        "## Importing the libraries"
      ]
    },
    {
      "cell_type": "code",
      "source": [
        "import numpy as np\n",
        "import matplotlib.pyplot as plt\n",
        "import pandas as pd"
      ],
      "metadata": {
        "id": "MaA_oriFW0s9"
      },
      "execution_count": null,
      "outputs": []
    },
    {
      "cell_type": "markdown",
      "metadata": {
        "id": "zApSnwUkl9eD"
      },
      "source": [
        "## Importing Dataset"
      ]
    },
    {
      "cell_type": "code",
      "source": [
        "dataset=pd.read_csv('Dataset_AEA.csv')\n",
        "X=dataset.iloc[:, :-1].values\n",
        "Y=dataset.iloc[:,-1].values"
      ],
      "metadata": {
        "id": "0deo2Um4X43p"
      },
      "execution_count": null,
      "outputs": []
    },
    {
      "cell_type": "code",
      "source": [
        "print(X)\n"
      ],
      "metadata": {
        "colab": {
          "base_uri": "https://localhost:8080/"
        },
        "id": "jGE_RBpqcVkw",
        "outputId": "3761150a-8419-4930-d312-74b23a62918f"
      },
      "execution_count": null,
      "outputs": [
        {
          "output_type": "stream",
          "name": "stdout",
          "text": [
            "[[10.0 'Moderate' 'no' 'no' 97.0]\n",
            " [12.0 'Moderate' 'no' 'no' 97.0]\n",
            " [15.0 'Moderate' 'no' 'no' 94.0]\n",
            " [10.0 'Moderate' 'no' 'no' 97.0]\n",
            " [13.0 'Moderate' 'no' 'no' 94.0]\n",
            " [12.0 'Moderate' 'no' 'no' 97.0]\n",
            " [13.0 'Moderate' 'no' 'no' 93.0]\n",
            " [15.0 'Moderate' 'no' 'no' 92.0]\n",
            " [18.0 'Moderate' 'no' 'no' 66.0]\n",
            " [19.0 'Moderate' 'no' 'no' 92.0]\n",
            " [20.0 'Moderate' 'no' 'no' 93.0]\n",
            " [17.0 'Moderate' 'no' 'no' 93.0]\n",
            " [16.0 'Moderate' 'no' 'no' 92.0]\n",
            " [18.0 'Moderate' 'no' 'no' 93.0]\n",
            " [20.0 'Moderate' 'no' 'no' 92.0]\n",
            " [25.0 'Moderate' 'no' 'no' 93.0]\n",
            " [24.0 'Moderate' 'no' 'no' 92.0]\n",
            " [26.0 'High' 'no' 'no' 94.0]\n",
            " [28.0 'Moderate' 'no' 'no' 99.0]\n",
            " [29.0 'Moderate' 'no' 'no' 93.0]\n",
            " [30.0 'Moderate' 'no' 'no' 62.0]\n",
            " [19.0 'Moderate' 'no' 'no' 89.0]\n",
            " [25.0 'Moderate' 'no' 'yes' 86.0]\n",
            " [26.0 'Moderate' 'no' 'no' nan]\n",
            " [28.0 'Moderate' 'no' 'no' 89.0]\n",
            " [30.0 'Moderate' 'yes' 'no' 86.0]\n",
            " [35.0 'Moderate' 'no' 'no' 89.0]\n",
            " [32.0 'Moderate' 'no' 'yes' 84.0]\n",
            " [nan 'Moderate' 'yes' 'no' 90.0]\n",
            " [32.0 'Moderate' 'no' 'no' 89.0]\n",
            " [35.0 'Moderate' 'no' 'yes' 92.0]\n",
            " [38.0 'High' 'no' 'no' 75.0]\n",
            " [40.0 'Moderate' 'no' 'yes' 90.0]\n",
            " [46.0 'High' 'yes' 'no' 91.0]\n",
            " [48.0 'Moderate' 'no' 'yes' 93.0]\n",
            " [42.0 'High' 'no' 'no' 92.0]\n",
            " [40.0 'High' 'no' 'no' 92.0]\n",
            " [49.0 'Moderate' 'no' 'no' 80.0]\n",
            " [50.0 'High' 'yes' 'yes' 77.0]\n",
            " [36.0 'High' 'yes' 'no' 90.0]\n",
            " [52.0 'High' 'yes' 'yes' 80.0]\n",
            " [56.0 'High' 'yes' 'yes' 77.0]\n",
            " [58.0 'High' 'no' 'no' 70.0]\n",
            " [59.0 'High' 'no' 'yes' 69.0]\n",
            " [60.0 'High' 'yes' 'yes' 68.0]\n",
            " [53.0 'High' 'yes' 'no' 55.0]\n",
            " [54.0 'High' 'yes' 'yes' 70.0]\n",
            " [62.0 'High' 'yes' 'yes' 68.0]\n",
            " [63.0 'High' 'yes' 'yes' 66.0]\n",
            " [68.0 'High' 'yes' 'no' 67.0]\n",
            " [69.0 'High' 'no' 'yes' 53.0]\n",
            " [64.0 'High' 'yes' 'yes' 73.0]\n",
            " [61.0 'High' 'yes' 'yes' 76.0]\n",
            " [70.0 'Moderate' 'no' 'yes' 88.0]\n",
            " [59.0 'High' 'yes' 'no' 68.0]\n",
            " [62.0 'High' 'yes' 'yes' 69.0]\n",
            " [78.0 'High' 'yes' 'yes' 71.0]\n",
            " [74.0 'High' 'yes' 'yes' 75.0]\n",
            " [75.0 'High' 'no' 'yes' 72.0]\n",
            " [56.0 'High' 'yes' 'no' 76.0]\n",
            " [80.0 'High' 'no' 'yes' 92.0]\n",
            " [82.0 'High' 'yes' 'yes' 73.0]\n",
            " [86.0 'High' 'yes' 'yes' 71.0]\n",
            " [90.0 'High' 'yes' 'yes' 67.0]\n",
            " [84.0 'High' 'yes' 'yes' 75.0]\n",
            " [86.0 'High' 'no' 'yes' 76.0]\n",
            " [61.0 'Moderate' 'no' 'yes' 90.0]\n",
            " [94.0 'High' 'yes' 'yes' 64.0]\n",
            " [81.0 'High' 'yes' 'yes' 75.0]\n",
            " [76.0 'High' 'yes' 'yes' 80.0]]\n"
          ]
        }
      ]
    },
    {
      "cell_type": "code",
      "source": [
        "print(Y)"
      ],
      "metadata": {
        "colab": {
          "base_uri": "https://localhost:8080/"
        },
        "id": "2jgKym88dhqw",
        "outputId": "09748109-b8f4-493c-bff0-9cdf39143f73"
      },
      "execution_count": null,
      "outputs": [
        {
          "output_type": "stream",
          "name": "stdout",
          "text": [
            "['No' 'No' 'No' 'No' 'No' 'No' 'No' 'No' 'Yes' 'No' 'No' 'No' 'No' 'No'\n",
            " 'No' 'No' 'No' 'No' 'No' 'No' 'Yes' 'No' 'No' 'No' 'No' 'No' 'No' 'No'\n",
            " 'No' 'No' 'No' 'Yes' 'No' 'No' 'No' 'No' 'No' 'Yes' 'Yes' 'No' 'Yes'\n",
            " 'Yes' 'Yes' 'Yes' 'Yes' 'Yes' 'Yes' 'Yes' 'Yes' 'Yes' 'Yes' 'Yes' 'Yes'\n",
            " 'No' 'Yes' 'Yes' 'Yes' 'Yes' 'Yes' 'Yes' 'No' 'Yes' 'Yes' 'Yes' 'Yes'\n",
            " 'Yes' 'No' 'Yes' 'Yes' 'Yes']\n"
          ]
        }
      ]
    },
    {
      "cell_type": "markdown",
      "metadata": {
        "id": "XaG0s7WjmgPU"
      },
      "source": [
        "\n",
        "\n",
        "\n",
        "## Handling Missing Data"
      ]
    },
    {
      "cell_type": "code",
      "source": [
        "from sklearn.impute import SimpleImputer #from the library, import simpleimputer transformer\n",
        "imputer= SimpleImputer(missing_values=np.nan, strategy='mean') #replace nan values by mean strategy\n",
        "\n",
        "imputer.fit(X[:, 0:5:4])\n",
        "X[: , 0:5:4]= imputer.transform(X[:, 0:5:4])\n",
        "\n",
        "# imputer.fit(X[:, 0:1])\n",
        "# X[: , 0:1]= imputer.transform(X[:, 0:1])\n",
        "\n",
        "# imputer.fit(X[:,4:5])\n",
        "# X[: ,4:5]= imputer.transform(X[:,4:5])\n"
      ],
      "metadata": {
        "id": "R1QpjFJtd_W_"
      },
      "execution_count": null,
      "outputs": []
    },
    {
      "cell_type": "code",
      "source": [
        "print(X)"
      ],
      "metadata": {
        "colab": {
          "base_uri": "https://localhost:8080/"
        },
        "id": "o4pxLjPoru41",
        "outputId": "c0bd5921-318f-4a42-eaed-cebbb3220feb"
      },
      "execution_count": null,
      "outputs": [
        {
          "output_type": "stream",
          "name": "stdout",
          "text": [
            "[[10.0 'Moderate' 'no' 'no' 97.0]\n",
            " [12.0 'Moderate' 'no' 'no' 97.0]\n",
            " [15.0 'Moderate' 'no' 'no' 94.0]\n",
            " [10.0 'Moderate' 'no' 'no' 97.0]\n",
            " [13.0 'Moderate' 'no' 'no' 94.0]\n",
            " [12.0 'Moderate' 'no' 'no' 97.0]\n",
            " [13.0 'Moderate' 'no' 'no' 93.0]\n",
            " [15.0 'Moderate' 'no' 'no' 92.0]\n",
            " [18.0 'Moderate' 'no' 'no' 66.0]\n",
            " [19.0 'Moderate' 'no' 'no' 92.0]\n",
            " [20.0 'Moderate' 'no' 'no' 93.0]\n",
            " [17.0 'Moderate' 'no' 'no' 93.0]\n",
            " [16.0 'Moderate' 'no' 'no' 92.0]\n",
            " [18.0 'Moderate' 'no' 'no' 93.0]\n",
            " [20.0 'Moderate' 'no' 'no' 92.0]\n",
            " [25.0 'Moderate' 'no' 'no' 93.0]\n",
            " [24.0 'Moderate' 'no' 'no' 92.0]\n",
            " [26.0 'High' 'no' 'no' 94.0]\n",
            " [28.0 'Moderate' 'no' 'no' 99.0]\n",
            " [29.0 'Moderate' 'no' 'no' 93.0]\n",
            " [30.0 'Moderate' 'no' 'no' 62.0]\n",
            " [19.0 'Moderate' 'no' 'no' 89.0]\n",
            " [25.0 'Moderate' 'no' 'yes' 86.0]\n",
            " [26.0 'Moderate' 'no' 'no' 82.07246376811594]\n",
            " [28.0 'Moderate' 'no' 'no' 89.0]\n",
            " [30.0 'Moderate' 'yes' 'no' 86.0]\n",
            " [35.0 'Moderate' 'no' 'no' 89.0]\n",
            " [32.0 'Moderate' 'no' 'yes' 84.0]\n",
            " [45.130434782608695 'Moderate' 'yes' 'no' 90.0]\n",
            " [32.0 'Moderate' 'no' 'no' 89.0]\n",
            " [35.0 'Moderate' 'no' 'yes' 92.0]\n",
            " [38.0 'High' 'no' 'no' 75.0]\n",
            " [40.0 'Moderate' 'no' 'yes' 90.0]\n",
            " [46.0 'High' 'yes' 'no' 91.0]\n",
            " [48.0 'Moderate' 'no' 'yes' 93.0]\n",
            " [42.0 'High' 'no' 'no' 92.0]\n",
            " [40.0 'High' 'no' 'no' 92.0]\n",
            " [49.0 'Moderate' 'no' 'no' 80.0]\n",
            " [50.0 'High' 'yes' 'yes' 77.0]\n",
            " [36.0 'High' 'yes' 'no' 90.0]\n",
            " [52.0 'High' 'yes' 'yes' 80.0]\n",
            " [56.0 'High' 'yes' 'yes' 77.0]\n",
            " [58.0 'High' 'no' 'no' 70.0]\n",
            " [59.0 'High' 'no' 'yes' 69.0]\n",
            " [60.0 'High' 'yes' 'yes' 68.0]\n",
            " [53.0 'High' 'yes' 'no' 55.0]\n",
            " [54.0 'High' 'yes' 'yes' 70.0]\n",
            " [62.0 'High' 'yes' 'yes' 68.0]\n",
            " [63.0 'High' 'yes' 'yes' 66.0]\n",
            " [68.0 'High' 'yes' 'no' 67.0]\n",
            " [69.0 'High' 'no' 'yes' 53.0]\n",
            " [64.0 'High' 'yes' 'yes' 73.0]\n",
            " [61.0 'High' 'yes' 'yes' 76.0]\n",
            " [70.0 'Moderate' 'no' 'yes' 88.0]\n",
            " [59.0 'High' 'yes' 'no' 68.0]\n",
            " [62.0 'High' 'yes' 'yes' 69.0]\n",
            " [78.0 'High' 'yes' 'yes' 71.0]\n",
            " [74.0 'High' 'yes' 'yes' 75.0]\n",
            " [75.0 'High' 'no' 'yes' 72.0]\n",
            " [56.0 'High' 'yes' 'no' 76.0]\n",
            " [80.0 'High' 'no' 'yes' 92.0]\n",
            " [82.0 'High' 'yes' 'yes' 73.0]\n",
            " [86.0 'High' 'yes' 'yes' 71.0]\n",
            " [90.0 'High' 'yes' 'yes' 67.0]\n",
            " [84.0 'High' 'yes' 'yes' 75.0]\n",
            " [86.0 'High' 'no' 'yes' 76.0]\n",
            " [61.0 'Moderate' 'no' 'yes' 90.0]\n",
            " [94.0 'High' 'yes' 'yes' 64.0]\n",
            " [81.0 'High' 'yes' 'yes' 75.0]\n",
            " [76.0 'High' 'yes' 'yes' 80.0]]\n"
          ]
        }
      ]
    },
    {
      "cell_type": "markdown",
      "metadata": {
        "id": "o0syRbsSmkoe"
      },
      "source": [
        "## Encoding Categorical Data"
      ]
    },
    {
      "cell_type": "markdown",
      "metadata": {
        "id": "alHfpomamsVr"
      },
      "source": [
        "### Encoding independent variables"
      ]
    },
    {
      "cell_type": "code",
      "source": [
        "from sklearn.compose import ColumnTransformer\n",
        "from sklearn.preprocessing import OneHotEncoder #will catagories H,M,L into 3 different columns\n"
      ],
      "metadata": {
        "id": "I1fntnv4zU-g"
      },
      "execution_count": null,
      "outputs": []
    },
    {
      "cell_type": "code",
      "source": [
        "ct=ColumnTransformer(transformers=[('encoder',OneHotEncoder(), [1])], remainder='passthrough') #applying it on index 1(body temperature), remainder passthough for returning remaing columns as well\n",
        "X=np.array(ct.fit_transform(X)) #applying tranformation on x"
      ],
      "metadata": {
        "id": "5VwEflYCzsY-"
      },
      "execution_count": null,
      "outputs": []
    },
    {
      "cell_type": "code",
      "source": [
        "print(X)"
      ],
      "metadata": {
        "colab": {
          "base_uri": "https://localhost:8080/"
        },
        "id": "y6MlMyTOGJCX",
        "outputId": "f952e92c-e969-4929-e2e9-71346d50f81b"
      },
      "execution_count": null,
      "outputs": [
        {
          "output_type": "stream",
          "name": "stdout",
          "text": [
            "[[0.0 1.0 10.0 'no' 'no' 97.0]\n",
            " [0.0 1.0 12.0 'no' 'no' 97.0]\n",
            " [0.0 1.0 15.0 'no' 'no' 94.0]\n",
            " [0.0 1.0 10.0 'no' 'no' 97.0]\n",
            " [0.0 1.0 13.0 'no' 'no' 94.0]\n",
            " [0.0 1.0 12.0 'no' 'no' 97.0]\n",
            " [0.0 1.0 13.0 'no' 'no' 93.0]\n",
            " [0.0 1.0 15.0 'no' 'no' 92.0]\n",
            " [0.0 1.0 18.0 'no' 'no' 66.0]\n",
            " [0.0 1.0 19.0 'no' 'no' 92.0]\n",
            " [0.0 1.0 20.0 'no' 'no' 93.0]\n",
            " [0.0 1.0 17.0 'no' 'no' 93.0]\n",
            " [0.0 1.0 16.0 'no' 'no' 92.0]\n",
            " [0.0 1.0 18.0 'no' 'no' 93.0]\n",
            " [0.0 1.0 20.0 'no' 'no' 92.0]\n",
            " [0.0 1.0 25.0 'no' 'no' 93.0]\n",
            " [0.0 1.0 24.0 'no' 'no' 92.0]\n",
            " [1.0 0.0 26.0 'no' 'no' 94.0]\n",
            " [0.0 1.0 28.0 'no' 'no' 99.0]\n",
            " [0.0 1.0 29.0 'no' 'no' 93.0]\n",
            " [0.0 1.0 30.0 'no' 'no' 62.0]\n",
            " [0.0 1.0 19.0 'no' 'no' 89.0]\n",
            " [0.0 1.0 25.0 'no' 'yes' 86.0]\n",
            " [0.0 1.0 26.0 'no' 'no' 82.07246376811594]\n",
            " [0.0 1.0 28.0 'no' 'no' 89.0]\n",
            " [0.0 1.0 30.0 'yes' 'no' 86.0]\n",
            " [0.0 1.0 35.0 'no' 'no' 89.0]\n",
            " [0.0 1.0 32.0 'no' 'yes' 84.0]\n",
            " [0.0 1.0 45.130434782608695 'yes' 'no' 90.0]\n",
            " [0.0 1.0 32.0 'no' 'no' 89.0]\n",
            " [0.0 1.0 35.0 'no' 'yes' 92.0]\n",
            " [1.0 0.0 38.0 'no' 'no' 75.0]\n",
            " [0.0 1.0 40.0 'no' 'yes' 90.0]\n",
            " [1.0 0.0 46.0 'yes' 'no' 91.0]\n",
            " [0.0 1.0 48.0 'no' 'yes' 93.0]\n",
            " [1.0 0.0 42.0 'no' 'no' 92.0]\n",
            " [1.0 0.0 40.0 'no' 'no' 92.0]\n",
            " [0.0 1.0 49.0 'no' 'no' 80.0]\n",
            " [1.0 0.0 50.0 'yes' 'yes' 77.0]\n",
            " [1.0 0.0 36.0 'yes' 'no' 90.0]\n",
            " [1.0 0.0 52.0 'yes' 'yes' 80.0]\n",
            " [1.0 0.0 56.0 'yes' 'yes' 77.0]\n",
            " [1.0 0.0 58.0 'no' 'no' 70.0]\n",
            " [1.0 0.0 59.0 'no' 'yes' 69.0]\n",
            " [1.0 0.0 60.0 'yes' 'yes' 68.0]\n",
            " [1.0 0.0 53.0 'yes' 'no' 55.0]\n",
            " [1.0 0.0 54.0 'yes' 'yes' 70.0]\n",
            " [1.0 0.0 62.0 'yes' 'yes' 68.0]\n",
            " [1.0 0.0 63.0 'yes' 'yes' 66.0]\n",
            " [1.0 0.0 68.0 'yes' 'no' 67.0]\n",
            " [1.0 0.0 69.0 'no' 'yes' 53.0]\n",
            " [1.0 0.0 64.0 'yes' 'yes' 73.0]\n",
            " [1.0 0.0 61.0 'yes' 'yes' 76.0]\n",
            " [0.0 1.0 70.0 'no' 'yes' 88.0]\n",
            " [1.0 0.0 59.0 'yes' 'no' 68.0]\n",
            " [1.0 0.0 62.0 'yes' 'yes' 69.0]\n",
            " [1.0 0.0 78.0 'yes' 'yes' 71.0]\n",
            " [1.0 0.0 74.0 'yes' 'yes' 75.0]\n",
            " [1.0 0.0 75.0 'no' 'yes' 72.0]\n",
            " [1.0 0.0 56.0 'yes' 'no' 76.0]\n",
            " [1.0 0.0 80.0 'no' 'yes' 92.0]\n",
            " [1.0 0.0 82.0 'yes' 'yes' 73.0]\n",
            " [1.0 0.0 86.0 'yes' 'yes' 71.0]\n",
            " [1.0 0.0 90.0 'yes' 'yes' 67.0]\n",
            " [1.0 0.0 84.0 'yes' 'yes' 75.0]\n",
            " [1.0 0.0 86.0 'no' 'yes' 76.0]\n",
            " [0.0 1.0 61.0 'no' 'yes' 90.0]\n",
            " [1.0 0.0 94.0 'yes' 'yes' 64.0]\n",
            " [1.0 0.0 81.0 'yes' 'yes' 75.0]\n",
            " [1.0 0.0 76.0 'yes' 'yes' 80.0]]\n"
          ]
        }
      ]
    },
    {
      "cell_type": "markdown",
      "metadata": {
        "id": "VEJCi9Fgmz-n"
      },
      "source": [
        "### Encoding dependent variables"
      ]
    },
    {
      "cell_type": "code",
      "source": [
        "from sklearn.preprocessing import LabelEncoder\n",
        "le=LabelEncoder()\n",
        "\n",
        "Y=le.fit_transform(Y)"
      ],
      "metadata": {
        "id": "OT760fH3I-aH"
      },
      "execution_count": null,
      "outputs": []
    },
    {
      "cell_type": "code",
      "source": [
        "print(Y)"
      ],
      "metadata": {
        "colab": {
          "base_uri": "https://localhost:8080/"
        },
        "id": "auPUmOFaJUPT",
        "outputId": "5ae1e902-9353-420c-941f-206bfa1ddb46"
      },
      "execution_count": null,
      "outputs": [
        {
          "output_type": "stream",
          "name": "stdout",
          "text": [
            "[0 0 0 0 0 0 0 0 1 0 0 0 0 0 0 0 0 0 0 0 1 0 0 0 0 0 0 0 0 0 0 1 0 0 0 0 0\n",
            " 1 1 0 1 1 1 1 1 1 1 1 1 1 1 1 1 0 1 1 1 1 1 1 0 1 1 1 1 1 0 1 1 1]\n"
          ]
        }
      ]
    },
    {
      "cell_type": "markdown",
      "metadata": {
        "id": "Bfz9vcDsm7r6"
      },
      "source": [
        "## Splitting data into Test set & Training Set\n"
      ]
    },
    {
      "cell_type": "code",
      "source": [
        "from sklearn.model_selection import train_test_split\n",
        "X_train, X_test,Y_train, Y_test= train_test_split(X,Y, test_size=0.2, random_state=42) #random state ensures that training and testing sets will be same every time we run the code"
      ],
      "metadata": {
        "id": "ruYyBSgP4ykz"
      },
      "execution_count": null,
      "outputs": []
    },
    {
      "cell_type": "code",
      "source": [
        "print(X_train)"
      ],
      "metadata": {
        "colab": {
          "base_uri": "https://localhost:8080/"
        },
        "id": "A3cc2YFTmt3b",
        "outputId": "f36739d5-8b8b-48bf-bc2c-9d4d4206d73f"
      },
      "execution_count": null,
      "outputs": [
        {
          "output_type": "stream",
          "name": "stdout",
          "text": [
            "[[1.0 0.0 86.0 'yes' 'yes' 71.0]\n",
            " [0.0 1.0 35.0 'no' 'yes' 92.0]\n",
            " [1.0 0.0 75.0 'no' 'yes' 72.0]\n",
            " [1.0 0.0 42.0 'no' 'no' 92.0]\n",
            " [1.0 0.0 74.0 'yes' 'yes' 75.0]\n",
            " [1.0 0.0 62.0 'yes' 'yes' 68.0]\n",
            " [0.0 1.0 24.0 'no' 'no' 92.0]\n",
            " [0.0 1.0 48.0 'no' 'yes' 93.0]\n",
            " [1.0 0.0 58.0 'no' 'no' 70.0]\n",
            " [0.0 1.0 45.130434782608695 'yes' 'no' 90.0]\n",
            " [0.0 1.0 15.0 'no' 'no' 92.0]\n",
            " [0.0 1.0 70.0 'no' 'yes' 88.0]\n",
            " [1.0 0.0 52.0 'yes' 'yes' 80.0]\n",
            " [1.0 0.0 60.0 'yes' 'yes' 68.0]\n",
            " [1.0 0.0 54.0 'yes' 'yes' 70.0]\n",
            " [0.0 1.0 29.0 'no' 'no' 93.0]\n",
            " [1.0 0.0 78.0 'yes' 'yes' 71.0]\n",
            " [1.0 0.0 36.0 'yes' 'no' 90.0]\n",
            " [0.0 1.0 30.0 'yes' 'no' 86.0]\n",
            " [1.0 0.0 50.0 'yes' 'yes' 77.0]\n",
            " [0.0 1.0 18.0 'no' 'no' 93.0]\n",
            " [1.0 0.0 69.0 'no' 'yes' 53.0]\n",
            " [0.0 1.0 10.0 'no' 'no' 97.0]\n",
            " [1.0 0.0 26.0 'no' 'no' 94.0]\n",
            " [0.0 1.0 18.0 'no' 'no' 66.0]\n",
            " [1.0 0.0 62.0 'yes' 'yes' 69.0]\n",
            " [0.0 1.0 13.0 'no' 'no' 93.0]\n",
            " [1.0 0.0 40.0 'no' 'no' 92.0]\n",
            " [1.0 0.0 84.0 'yes' 'yes' 75.0]\n",
            " [1.0 0.0 76.0 'yes' 'yes' 80.0]\n",
            " [1.0 0.0 81.0 'yes' 'yes' 75.0]\n",
            " [0.0 1.0 25.0 'no' 'no' 93.0]\n",
            " [0.0 1.0 32.0 'no' 'yes' 84.0]\n",
            " [1.0 0.0 56.0 'yes' 'yes' 77.0]\n",
            " [0.0 1.0 35.0 'no' 'no' 89.0]\n",
            " [1.0 0.0 63.0 'yes' 'yes' 66.0]\n",
            " [0.0 1.0 28.0 'no' 'no' 89.0]\n",
            " [1.0 0.0 56.0 'yes' 'no' 76.0]\n",
            " [1.0 0.0 90.0 'yes' 'yes' 67.0]\n",
            " [0.0 1.0 17.0 'no' 'no' 93.0]\n",
            " [0.0 1.0 40.0 'no' 'yes' 90.0]\n",
            " [0.0 1.0 61.0 'no' 'yes' 90.0]\n",
            " [1.0 0.0 82.0 'yes' 'yes' 73.0]\n",
            " [0.0 1.0 49.0 'no' 'no' 80.0]\n",
            " [0.0 1.0 32.0 'no' 'no' 89.0]\n",
            " [1.0 0.0 59.0 'no' 'yes' 69.0]\n",
            " [1.0 0.0 86.0 'no' 'yes' 76.0]\n",
            " [0.0 1.0 12.0 'no' 'no' 97.0]\n",
            " [1.0 0.0 61.0 'yes' 'yes' 76.0]\n",
            " [0.0 1.0 19.0 'no' 'no' 89.0]\n",
            " [0.0 1.0 15.0 'no' 'no' 94.0]\n",
            " [0.0 1.0 26.0 'no' 'no' 82.07246376811594]\n",
            " [0.0 1.0 30.0 'no' 'no' 62.0]\n",
            " [1.0 0.0 80.0 'no' 'yes' 92.0]\n",
            " [0.0 1.0 20.0 'no' 'no' 92.0]\n",
            " [1.0 0.0 64.0 'yes' 'yes' 73.0]]\n"
          ]
        }
      ]
    },
    {
      "cell_type": "code",
      "source": [
        "print(X_test)"
      ],
      "metadata": {
        "colab": {
          "base_uri": "https://localhost:8080/"
        },
        "id": "w5oF7kWPptYW",
        "outputId": "6019e203-956d-4bab-9c6c-4a7a385f02e2"
      },
      "execution_count": null,
      "outputs": [
        {
          "output_type": "stream",
          "name": "stdout",
          "text": [
            "[[0.0 1.0 25.0 'no' 'yes' 86.0]\n",
            " [0.0 1.0 10.0 'no' 'no' 97.0]\n",
            " [1.0 0.0 68.0 'yes' 'no' 67.0]\n",
            " [0.0 1.0 13.0 'no' 'no' 94.0]\n",
            " [1.0 0.0 59.0 'yes' 'no' 68.0]\n",
            " [0.0 1.0 28.0 'no' 'no' 99.0]\n",
            " [0.0 1.0 20.0 'no' 'no' 93.0]\n",
            " [1.0 0.0 46.0 'yes' 'no' 91.0]\n",
            " [1.0 0.0 53.0 'yes' 'no' 55.0]\n",
            " [0.0 1.0 16.0 'no' 'no' 92.0]\n",
            " [1.0 0.0 38.0 'no' 'no' 75.0]\n",
            " [0.0 1.0 19.0 'no' 'no' 92.0]\n",
            " [1.0 0.0 94.0 'yes' 'yes' 64.0]\n",
            " [0.0 1.0 12.0 'no' 'no' 97.0]]\n"
          ]
        }
      ]
    },
    {
      "cell_type": "code",
      "source": [
        "print(Y_train)"
      ],
      "metadata": {
        "colab": {
          "base_uri": "https://localhost:8080/"
        },
        "id": "VADDWEHIpwlx",
        "outputId": "9f739889-a8c1-43af-bace-6e1eebd33ef8"
      },
      "execution_count": null,
      "outputs": [
        {
          "output_type": "stream",
          "name": "stdout",
          "text": [
            "[1 0 1 0 1 1 0 0 1 0 0 0 1 1 1 0 1 0 0 1 0 1 0 0 1 1 0 0 1 1 1 0 0 1 0 1 0\n",
            " 1 1 0 0 0 1 1 0 1 1 0 1 0 0 0 1 0 0 1]\n"
          ]
        }
      ]
    },
    {
      "cell_type": "code",
      "source": [
        "print(Y_test)"
      ],
      "metadata": {
        "colab": {
          "base_uri": "https://localhost:8080/"
        },
        "id": "HmRKPDO6pzoD",
        "outputId": "068ff24e-7a3a-4f2c-fb33-c58abd7da6b7"
      },
      "execution_count": null,
      "outputs": [
        {
          "output_type": "stream",
          "name": "stdout",
          "text": [
            "[0 0 1 0 1 0 0 0 1 0 1 0 1 0]\n"
          ]
        }
      ]
    },
    {
      "cell_type": "markdown",
      "metadata": {
        "id": "a5uoHf8MsQG0"
      },
      "source": [
        "## Feature Scaling"
      ]
    },
    {
      "cell_type": "code",
      "source": [
        "from sklearn.preprocessing import StandardScaler\n",
        "sc=StandardScaler()\n",
        "X_train[:, 5:]= sc.fit_transform(X_train[:, 5:])\n",
        "X_test[:, 5:]= sc.fit_transform(X_test[:, 5:])"
      ],
      "metadata": {
        "id": "mqLfrJwp0wuJ"
      },
      "execution_count": null,
      "outputs": []
    },
    {
      "cell_type": "code",
      "source": [
        "print(X_train)"
      ],
      "metadata": {
        "colab": {
          "base_uri": "https://localhost:8080/"
        },
        "id": "DEt-agUy8PqU",
        "outputId": "26530efc-6b86-4ae7-d1e9-ec9f81d847b2"
      },
      "execution_count": null,
      "outputs": [
        {
          "output_type": "stream",
          "name": "stdout",
          "text": [
            "[[1.0 0.0 86.0 'yes' 'yes' -0.9941858494300262]\n",
            " [0.0 1.0 35.0 'no' 'yes' 0.9574354145081888]\n",
            " [1.0 0.0 75.0 'no' 'yes' -0.9012515035282065]\n",
            " [1.0 0.0 42.0 'no' 'no' 0.9574354145081888]\n",
            " [1.0 0.0 74.0 'yes' 'yes' -0.6224484658227473]\n",
            " [1.0 0.0 62.0 'yes' 'yes' -1.2729888871354855]\n",
            " [0.0 1.0 24.0 'no' 'no' 0.9574354145081888]\n",
            " [0.0 1.0 48.0 'no' 'yes' 1.0503697604100086]\n",
            " [1.0 0.0 58.0 'no' 'no' -1.0871201953318461]\n",
            " [0.0 1.0 45.130434782608695 'yes' 'no' 0.7715667227045493]\n",
            " [0.0 1.0 15.0 'no' 'no' 0.9574354145081888]\n",
            " [0.0 1.0 70.0 'no' 'yes' 0.5856980309009098]\n",
            " [1.0 0.0 52.0 'yes' 'yes' -0.1577767363136484]\n",
            " [1.0 0.0 60.0 'yes' 'yes' -1.2729888871354855]\n",
            " [1.0 0.0 54.0 'yes' 'yes' -1.0871201953318461]\n",
            " [0.0 1.0 29.0 'no' 'no' 1.0503697604100086]\n",
            " [1.0 0.0 78.0 'yes' 'yes' -0.9941858494300262]\n",
            " [1.0 0.0 36.0 'yes' 'no' 0.7715667227045493]\n",
            " [0.0 1.0 30.0 'yes' 'no' 0.3998293390972702]\n",
            " [1.0 0.0 50.0 'yes' 'yes' -0.4365797740191077]\n",
            " [0.0 1.0 18.0 'no' 'no' 1.0503697604100086]\n",
            " [1.0 0.0 69.0 'no' 'yes' -2.667004075662782]\n",
            " [0.0 1.0 10.0 'no' 'no' 1.4221071440172877]\n",
            " [1.0 0.0 26.0 'no' 'no' 1.1433041063118283]\n",
            " [0.0 1.0 18.0 'no' 'no' -1.4588575789391252]\n",
            " [1.0 0.0 62.0 'yes' 'yes' -1.1800545412336658]\n",
            " [0.0 1.0 13.0 'no' 'no' 1.0503697604100086]\n",
            " [1.0 0.0 40.0 'no' 'no' 0.9574354145081888]\n",
            " [1.0 0.0 84.0 'yes' 'yes' -0.6224484658227473]\n",
            " [1.0 0.0 76.0 'yes' 'yes' -0.1577767363136484]\n",
            " [1.0 0.0 81.0 'yes' 'yes' -0.6224484658227473]\n",
            " [0.0 1.0 25.0 'no' 'no' 1.0503697604100086]\n",
            " [0.0 1.0 32.0 'no' 'yes' 0.21396064729363065]\n",
            " [1.0 0.0 56.0 'yes' 'yes' -0.4365797740191077]\n",
            " [0.0 1.0 35.0 'no' 'no' 0.6786323768027296]\n",
            " [1.0 0.0 63.0 'yes' 'yes' -1.4588575789391252]\n",
            " [0.0 1.0 28.0 'no' 'no' 0.6786323768027296]\n",
            " [1.0 0.0 56.0 'yes' 'no' -0.5295141199209275]\n",
            " [1.0 0.0 90.0 'yes' 'yes' -1.3659232330373055]\n",
            " [0.0 1.0 17.0 'no' 'no' 1.0503697604100086]\n",
            " [0.0 1.0 40.0 'no' 'yes' 0.7715667227045493]\n",
            " [0.0 1.0 61.0 'no' 'yes' 0.7715667227045493]\n",
            " [1.0 0.0 82.0 'yes' 'yes' -0.8083171576263868]\n",
            " [0.0 1.0 49.0 'no' 'no' -0.1577767363136484]\n",
            " [0.0 1.0 32.0 'no' 'no' 0.6786323768027296]\n",
            " [1.0 0.0 59.0 'no' 'yes' -1.1800545412336658]\n",
            " [1.0 0.0 86.0 'no' 'yes' -0.5295141199209275]\n",
            " [0.0 1.0 12.0 'no' 'no' 1.4221071440172877]\n",
            " [1.0 0.0 61.0 'yes' 'yes' -0.5295141199209275]\n",
            " [0.0 1.0 19.0 'no' 'no' 0.6786323768027296]\n",
            " [0.0 1.0 15.0 'no' 'no' 1.1433041063118283]\n",
            " [0.0 1.0 26.0 'no' 'no' 0.034826328381426956]\n",
            " [0.0 1.0 30.0 'no' 'no' -1.8305949625464042]\n",
            " [1.0 0.0 80.0 'no' 'yes' 0.9574354145081888]\n",
            " [0.0 1.0 20.0 'no' 'no' 0.9574354145081888]\n",
            " [1.0 0.0 64.0 'yes' 'yes' -0.8083171576263868]]\n"
          ]
        }
      ]
    }
  ]
}